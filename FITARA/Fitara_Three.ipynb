{
 "cells": [
  {
   "cell_type": "markdown",
   "metadata": {},
   "source": [
    "# Using only Spacy"
   ]
  },
  {
   "cell_type": "code",
   "execution_count": 2,
   "metadata": {},
   "outputs": [],
   "source": [
    "import spacy\n",
    "import pandas as pd\n",
    "from sklearn.feature_extraction.text import CountVectorizer,TfidfVectorizer\n",
    "from sklearn.base import TransformerMixin\n",
    "from sklearn.pipeline import Pipeline\n",
    "\n",
    "TRAIN_LABELS = 'participants/train/labels/labels.csv'\n",
    "TRAIN_TEXT = 'participants/train/extracted_data/extract_combined.csv'\n",
    "TEST_TEXT = 'participants/test/extracted_data/extract_combined.csv'"
   ]
  },
  {
   "cell_type": "markdown",
   "metadata": {},
   "source": [
    "### Importing Data"
   ]
  },
  {
   "cell_type": "code",
   "execution_count": 3,
   "metadata": {},
   "outputs": [
    {
     "data": {
      "text/html": [
       "<div>\n",
       "<style scoped>\n",
       "    .dataframe tbody tr th:only-of-type {\n",
       "        vertical-align: middle;\n",
       "    }\n",
       "\n",
       "    .dataframe tbody tr th {\n",
       "        vertical-align: top;\n",
       "    }\n",
       "\n",
       "    .dataframe thead th {\n",
       "        text-align: right;\n",
       "    }\n",
       "</style>\n",
       "<table border=\"1\" class=\"dataframe\">\n",
       "  <thead>\n",
       "    <tr style=\"text-align: right;\">\n",
       "      <th></th>\n",
       "      <th>document_name</th>\n",
       "      <th>is_fitara</th>\n",
       "      <th>text</th>\n",
       "      <th>text_org</th>\n",
       "      <th>word_count</th>\n",
       "    </tr>\n",
       "  </thead>\n",
       "  <tbody>\n",
       "    <tr>\n",
       "      <th>0</th>\n",
       "      <td>04-42RFP.pdf</td>\n",
       "      <td>0</td>\n",
       "      <td>\\n \\nOMB No. 0990-0115  \\n \\n Electronic Requ...</td>\n",
       "      <td>Proposal Purchase Authority RFP NIH November ...</td>\n",
       "      <td>1689</td>\n",
       "    </tr>\n",
       "    <tr>\n",
       "      <th>7</th>\n",
       "      <td>1_-_Terms_&amp;_Conditions.docx</td>\n",
       "      <td>0</td>\n",
       "      <td>52.203-98, Prohibition on Contracting with Ent...</td>\n",
       "      <td>2015-02 Division E 2015 Standard Form 2015-02...</td>\n",
       "      <td>607</td>\n",
       "    </tr>\n",
       "    <tr>\n",
       "      <th>8</th>\n",
       "      <td>1_-_Terms_&amp;_Conditions_for_posting.docx</td>\n",
       "      <td>0</td>\n",
       "      <td>52.203-98, Prohibition on Contracting with Ent...</td>\n",
       "      <td>2015-02 Division E 2015 Standard Form 2015-02...</td>\n",
       "      <td>521</td>\n",
       "    </tr>\n",
       "    <tr>\n",
       "      <th>9</th>\n",
       "      <td>1_-_Terms_&amp;_Conditions_for_Posting_NOI-RML-E-1...</td>\n",
       "      <td>0</td>\n",
       "      <td>52.203-98, Prohibition on Contracting with Ent...</td>\n",
       "      <td>2015-02 Division E 2015 Standard Form 2015-02...</td>\n",
       "      <td>708</td>\n",
       "    </tr>\n",
       "    <tr>\n",
       "      <th>10</th>\n",
       "      <td>1_-_Terms_3&amp;_Conditions_attached_to_posting.docx</td>\n",
       "      <td>0</td>\n",
       "      <td>52.203-98, Prohibition on Contracting with Ent...</td>\n",
       "      <td>2015-02 Division E 2015 Standard Form 2015-02...</td>\n",
       "      <td>681</td>\n",
       "    </tr>\n",
       "  </tbody>\n",
       "</table>\n",
       "</div>"
      ],
      "text/plain": [
       "                                        document_name  is_fitara  \\\n",
       "0                                        04-42RFP.pdf          0   \n",
       "7                         1_-_Terms_&_Conditions.docx          0   \n",
       "8             1_-_Terms_&_Conditions_for_posting.docx          0   \n",
       "9   1_-_Terms_&_Conditions_for_Posting_NOI-RML-E-1...          0   \n",
       "10   1_-_Terms_3&_Conditions_attached_to_posting.docx          0   \n",
       "\n",
       "                                                 text  \\\n",
       "0    \\n \\nOMB No. 0990-0115  \\n \\n Electronic Requ...   \n",
       "7   52.203-98, Prohibition on Contracting with Ent...   \n",
       "8   52.203-98, Prohibition on Contracting with Ent...   \n",
       "9   52.203-98, Prohibition on Contracting with Ent...   \n",
       "10  52.203-98, Prohibition on Contracting with Ent...   \n",
       "\n",
       "                                             text_org  word_count  \n",
       "0    Proposal Purchase Authority RFP NIH November ...        1689  \n",
       "7    2015-02 Division E 2015 Standard Form 2015-02...         607  \n",
       "8    2015-02 Division E 2015 Standard Form 2015-02...         521  \n",
       "9    2015-02 Division E 2015 Standard Form 2015-02...         708  \n",
       "10   2015-02 Division E 2015 Standard Form 2015-02...         681  "
      ]
     },
     "execution_count": 3,
     "metadata": {},
     "output_type": "execute_result"
    }
   ],
   "source": [
    "train_labels_df = pd.read_csv(TRAIN_LABELS, usecols=['document_name','is_fitara'])\n",
    "train_text_df = pd.read_csv(TRAIN_TEXT)\n",
    "test_df = pd.read_csv(TEST_TEXT)\n",
    "\n",
    "train_labels_df.is_fitara = train_labels_df.is_fitara.eq('Yes').mul(1)\n",
    "\n",
    "fitara_df = pd.merge(\n",
    "    train_labels_df, \n",
    "    train_text_df, \n",
    "    on='document_name', \n",
    "    how='inner'\n",
    ")\n",
    "\n",
    "raw_data = pd.read_pickle('participants/train_df_ORG_GPE_DATE.pkl')\n",
    "word_count_df = pd.read_pickle('participants/get_only_ORG.pkl')\n",
    "raw_data['word_count'] = word_count_df.word_count\n",
    "fitara_df = raw_data[(raw_data.word_count > 100)]\n",
    "fitara_df.text_org = fitara_df.text_org[]\n",
    "fitara_df.head()"
   ]
  },
  {
   "cell_type": "markdown",
   "metadata": {},
   "source": [
    "### Tokenizing Data"
   ]
  },
  {
   "cell_type": "code",
   "execution_count": 4,
   "metadata": {},
   "outputs": [],
   "source": [
    "import string\n",
    "from spacy.lang.en.stop_words import STOP_WORDS\n",
    "from spacy.lang.en import English\n",
    "\n",
    "# Create our list of punctuation marks\n",
    "punctuations = string.punctuation\n",
    "\n",
    "# Create our list of stopwords\n",
    "# nlp = spacy.load('en')\n",
    "stop_words = spacy.lang.en.stop_words.STOP_WORDS\n",
    "\n",
    "# Load English tokenizer, tagger, parser, NER and word vectors\n",
    "parser = spacy.load('en') #English()\n",
    "\n",
    "# Creating our tokenizer function\n",
    "def spacy_tokenizer(sentence):\n",
    "    # Creating our token object, which is used to create documents with linguistic annotations.\n",
    "    mytokens = parser(sentence)\n",
    "\n",
    "    # Lemmatizing each token and converting each token into lowercase\n",
    "    mytokens = [ word.lemma_.lower().strip() if word.lemma_ != \"-PRON-\" else word.lower_ for word in mytokens ]\n",
    "    \n",
    "    # Removing stop words\n",
    "    mytokens = [ word for word in mytokens if word not in stop_words and word not in punctuations ]\n",
    "\n",
    "    # return preprocessed list of tokens\n",
    "    return mytokens\n",
    "\n",
    "def get_only_ORG(text):\n",
    "    doc = nlp(text)\n",
    "    ORGS = \"\"\n",
    "    for ent in doc.ents:\n",
    "        if ent.label_ == 'ORG':\n",
    "            ORGS += \" \"\n",
    "            ORGS += ent.text\n",
    "    if len(ORGS) == 0:\n",
    "        print(\"Not found\")\n",
    "    print(text)\n",
    "    print('====================================================================================================')\n",
    "    return ORGS"
   ]
  },
  {
   "cell_type": "code",
   "execution_count": 5,
   "metadata": {},
   "outputs": [],
   "source": [
    "# tokens = spacy_tokenizer(fitara_df.text[0])"
   ]
  },
  {
   "cell_type": "markdown",
   "metadata": {},
   "source": [
    "### Custom Transformer"
   ]
  },
  {
   "cell_type": "code",
   "execution_count": 6,
   "metadata": {},
   "outputs": [],
   "source": [
    "# Custom transformer using spaCy\n",
    "class predictors(TransformerMixin):\n",
    "    def transform(self, X, **transform_params):\n",
    "        # Cleaning Text\n",
    "        return [clean_text(text) for text in X]\n",
    "\n",
    "    def fit(self, X, y=None, **fit_params):\n",
    "        return self\n",
    "\n",
    "    def get_params(self, deep=True):\n",
    "        return {}\n",
    "\n",
    "# Basic function to clean the text\n",
    "def clean_text(text):\n",
    "    # Removing spaces and converting text into lowercase\n",
    "    return text.strip().lower()"
   ]
  },
  {
   "cell_type": "markdown",
   "metadata": {},
   "source": [
    "### Feature Engineering"
   ]
  },
  {
   "cell_type": "code",
   "execution_count": 7,
   "metadata": {},
   "outputs": [],
   "source": [
    "bow_vector = CountVectorizer(tokenizer = spacy_tokenizer, ngram_range=(2,3))\n",
    "\n",
    "tfidf_vector = TfidfVectorizer(min_df=5, analyzer='word', ngram_range=(2,3), token_pattern='\\w{1,}' ,max_features=30000)"
   ]
  },
  {
   "cell_type": "markdown",
   "metadata": {},
   "source": [
    "### Spliting data into Trainig and Test set"
   ]
  },
  {
   "cell_type": "code",
   "execution_count": 11,
   "metadata": {},
   "outputs": [],
   "source": [
    "from sklearn.model_selection import train_test_split\n",
    "\n",
    "X = fitara_df['text_org'] # the features we want to analyze\n",
    "ylabels = fitara_df['is_fitara'] # the labels, or answers, we want to test against\n",
    "\n",
    "X_train, X_test, y_train, y_test = train_test_split(X, ylabels, test_size=0.3, random_state = 20)"
   ]
  },
  {
   "cell_type": "markdown",
   "metadata": {},
   "source": [
    "### Creating Pipling and Generating Model"
   ]
  },
  {
   "cell_type": "code",
   "execution_count": 24,
   "metadata": {},
   "outputs": [
    {
     "name": "stderr",
     "output_type": "stream",
     "text": [
      "/opt/conda/lib/python3.7/site-packages/sklearn/linear_model/stochastic_gradient.py:183: FutureWarning: max_iter and tol parameters have been added in SGDClassifier in 0.19. If max_iter is set but tol is left unset, the default value for tol in 0.19 and 0.20 will be None (which is equivalent to -infinity, so it has no effect) but will change in 0.21 to 1e-3. Specify tol to silence this warning.\n",
      "  FutureWarning)\n"
     ]
    },
    {
     "data": {
      "text/plain": [
       "Pipeline(memory=None,\n",
       "     steps=[('vectorizer', CountVectorizer(analyzer='word', binary=False, decode_error='strict',\n",
       "        dtype=<class 'numpy.int64'>, encoding='utf-8', input='content',\n",
       "        lowercase=True, max_df=1.0, max_features=None, min_df=1,\n",
       "        ngram_range=(2, 3), preprocessor=None, stop_words=None,\n",
       "       ...m_state=None, shuffle=True, tol=None,\n",
       "       validation_fraction=0.1, verbose=0, warm_start=False))])"
      ]
     },
     "execution_count": 24,
     "metadata": {},
     "output_type": "execute_result"
    }
   ],
   "source": [
    "# Logistic Regression Classifier\n",
    "from sklearn.linear_model import LogisticRegression\n",
    "from sklearn.naive_bayes import MultinomialNB\n",
    "from sklearn.linear_model import SGDClassifier\n",
    "\n",
    "# classifier = LogisticRegression()\n",
    "classifier = MultinomialNB(class_prior=[.5, .5])\n",
    "# classifier = SGDClassifier(max_iter=100, verbose=0)\n",
    "\n",
    "# Create pipeline using Bag of Words\n",
    "pipe = Pipeline([#(\"cleaner\", predictors()),\n",
    "                 ('vectorizer', bow_vector),\n",
    "                 ('classifier', classifier)])\n",
    "\n",
    "# model generation\n",
    "pipe.fit(X_train,y_train)"
   ]
  },
  {
   "cell_type": "markdown",
   "metadata": {},
   "source": [
    "### Evaluating Model"
   ]
  },
  {
   "cell_type": "code",
   "execution_count": 25,
   "metadata": {},
   "outputs": [],
   "source": [
    "from sklearn import metrics\n",
    "# Predicting with a test dataset\n",
    "def evaluate_model():\n",
    "    predicted = pipe.predict(X_test)\n",
    "    # Model Accuracy\n",
    "    print(\"Logistic Regression Accuracy:\",metrics.accuracy_score(y_test, predicted))\n",
    "    print(\"Logistic Regression Precision:\",metrics.precision_score(y_test, predicted))\n",
    "    print(\"Logistic Regression Recall:\",metrics.recall_score(y_test, predicted))\n"
   ]
  },
  {
   "cell_type": "code",
   "execution_count": 26,
   "metadata": {},
   "outputs": [
    {
     "name": "stdout",
     "output_type": "stream",
     "text": [
      "Logistic Regression Accuracy: 0.8037974683544303\n",
      "Logistic Regression Precision: 0.734375\n",
      "Logistic Regression Recall: 0.7704918032786885\n"
     ]
    }
   ],
   "source": [
    "evaluate_model()"
   ]
  },
  {
   "cell_type": "code",
   "execution_count": null,
   "metadata": {},
   "outputs": [],
   "source": []
  }
 ],
 "metadata": {
  "kernelspec": {
   "display_name": "Python 3",
   "language": "python",
   "name": "python3"
  },
  "language_info": {
   "codemirror_mode": {
    "name": "ipython",
    "version": 3
   },
   "file_extension": ".py",
   "mimetype": "text/x-python",
   "name": "python",
   "nbconvert_exporter": "python",
   "pygments_lexer": "ipython3",
   "version": "3.7.3"
  },
  "notify_time": "10"
 },
 "nbformat": 4,
 "nbformat_minor": 2
}
