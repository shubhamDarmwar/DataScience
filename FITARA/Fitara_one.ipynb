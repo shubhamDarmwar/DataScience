{
 "cells": [
  {
   "cell_type": "code",
   "execution_count": 1,
   "metadata": {},
   "outputs": [],
   "source": [
    "from sklearn.feature_extraction.text import TfidfVectorizer\n",
    "from sklearn import metrics\n",
    "from sklearn.naive_bayes import MultinomialNB\n",
    "import pandas as pd\n",
    "import numpy as np\n",
    "import sklearn.model_selection as model_selection\n",
    "TRAIN_LABELS = 'participants/train/labels/labels.csv'\n",
    "TRAIN_TEXT = 'participants/train/extracted_data/extract_combined.csv'\n",
    "TEST_TEXT = 'participants/test/extracted_data/extract_combined.csv'\n"
   ]
  },
  {
   "cell_type": "code",
   "execution_count": 2,
   "metadata": {},
   "outputs": [],
   "source": [
    "train_labels_df = pd.read_csv(TRAIN_LABELS, usecols=['document_name','is_fitara'])\n",
    "train_text_df = pd.read_csv(TRAIN_TEXT)\n",
    "test_df = pd.read_csv(TEST_TEXT)\n",
    "\n",
    "msk = np.random.rand(train_text_df.shape[0]) < 0.7"
   ]
  },
  {
   "cell_type": "code",
   "execution_count": 3,
   "metadata": {
    "scrolled": true
   },
   "outputs": [
    {
     "data": {
      "text/html": [
       "<div>\n",
       "<style scoped>\n",
       "    .dataframe tbody tr th:only-of-type {\n",
       "        vertical-align: middle;\n",
       "    }\n",
       "\n",
       "    .dataframe tbody tr th {\n",
       "        vertical-align: top;\n",
       "    }\n",
       "\n",
       "    .dataframe thead th {\n",
       "        text-align: right;\n",
       "    }\n",
       "</style>\n",
       "<table border=\"1\" class=\"dataframe\">\n",
       "  <thead>\n",
       "    <tr style=\"text-align: right;\">\n",
       "      <th></th>\n",
       "      <th>document_name</th>\n",
       "      <th>is_fitara</th>\n",
       "      <th>text</th>\n",
       "    </tr>\n",
       "  </thead>\n",
       "  <tbody>\n",
       "    <tr>\n",
       "      <th>0</th>\n",
       "      <td>04-42RFP.pdf</td>\n",
       "      <td>0</td>\n",
       "      <td>\\n \\nOMB No. 0990-0115  \\n \\n Electronic Requ...</td>\n",
       "    </tr>\n",
       "    <tr>\n",
       "      <th>1</th>\n",
       "      <td>1_-_Brand_name_JOFOC_1782798.pdf</td>\n",
       "      <td>0</td>\n",
       "      <td>\\n \\nJustification for Other than Full and Op...</td>\n",
       "    </tr>\n",
       "    <tr>\n",
       "      <th>2</th>\n",
       "      <td>1_-_Brand_Name_JOFOC_for_FBO.docx</td>\n",
       "      <td>0</td>\n",
       "      <td>Justification for Other than Full and Open Com...</td>\n",
       "    </tr>\n",
       "    <tr>\n",
       "      <th>3</th>\n",
       "      <td>1_-_Brand_Name_Only.docx</td>\n",
       "      <td>1</td>\n",
       "      <td>Justification for Other than Full and Open Com...</td>\n",
       "    </tr>\n",
       "    <tr>\n",
       "      <th>4</th>\n",
       "      <td>1_-_JOFOC_-_FSSI_Limited_Source.doc</td>\n",
       "      <td>1</td>\n",
       "      <td>Attachment C\\r\\r\\rHHS Template and Instruction...</td>\n",
       "    </tr>\n",
       "  </tbody>\n",
       "</table>\n",
       "</div>"
      ],
      "text/plain": [
       "                         document_name  is_fitara  \\\n",
       "0                         04-42RFP.pdf          0   \n",
       "1     1_-_Brand_name_JOFOC_1782798.pdf          0   \n",
       "2    1_-_Brand_Name_JOFOC_for_FBO.docx          0   \n",
       "3             1_-_Brand_Name_Only.docx          1   \n",
       "4  1_-_JOFOC_-_FSSI_Limited_Source.doc          1   \n",
       "\n",
       "                                                text  \n",
       "0   \\n \\nOMB No. 0990-0115  \\n \\n Electronic Requ...  \n",
       "1   \\n \\nJustification for Other than Full and Op...  \n",
       "2  Justification for Other than Full and Open Com...  \n",
       "3  Justification for Other than Full and Open Com...  \n",
       "4  Attachment C\\r\\r\\rHHS Template and Instruction...  "
      ]
     },
     "execution_count": 3,
     "metadata": {},
     "output_type": "execute_result"
    }
   ],
   "source": [
    "train_labels_df.is_fitara = train_labels_df.is_fitara.eq('Yes').mul(1)\n",
    "\n",
    "train_df = pd.merge(\n",
    "    train_labels_df, \n",
    "    train_text_df, \n",
    "    on='document_name', \n",
    "    how='inner'\n",
    ")\n",
    "train_df.head()"
   ]
  },
  {
   "cell_type": "code",
   "execution_count": 40,
   "metadata": {},
   "outputs": [],
   "source": [
    "# train_XY = train_df[msk]\n",
    "# test_XY = train_df[~msk]\n",
    "train_x, test_x, train_y, test_y = model_selection.train_test_split(train_df.text, train_df.is_fitara, test_size=0.3)"
   ]
  },
  {
   "cell_type": "code",
   "execution_count": 44,
   "metadata": {},
   "outputs": [],
   "source": [
    "tfidf_vect_ngram = TfidfVectorizer(stop_words='english', analyzer='word', token_pattern=r'\\w{1,}', ngram_range=(2,3), max_features=5000)\n",
    "tfidf_vect_ngram.fit(train_x)\n",
    "ngram_train = tfidf_vect_ngram.transform(train_x.values)\n",
    "ngram_test = tfidf_vect_ngram.transform(test_x.values)"
   ]
  },
  {
   "cell_type": "code",
   "execution_count": 45,
   "metadata": {},
   "outputs": [],
   "source": [
    "nb_classifier2 = MultinomialNB()\n",
    "nb_classifier2.fit(ngram_train, train_y)\n",
    "ngram_pred = nb_classifier2.predict(ngram_test)\n",
    "ngram_score = metrics.accuracy_score(test_y, ngram_pred)"
   ]
  },
  {
   "cell_type": "code",
   "execution_count": 46,
   "metadata": {},
   "outputs": [
    {
     "name": "stdout",
     "output_type": "stream",
     "text": [
      "============= NGRAM VECTORIZER ================\n",
      "Loss =  7.461410892047552\n",
      "Score =  0.7839721254355401\n",
      "CM = \n",
      " [[185  26]\n",
      " [ 36  40]]\n"
     ]
    }
   ],
   "source": [
    "print('============= NGRAM VECTORIZER ================')\n",
    "print('Loss = ',metrics.log_loss(test_y, ngram_pred))\n",
    "print('Score = ',ngram_score)\n",
    "print('CM = \\n',metrics.confusion_matrix(test_y, ngram_pred, labels=[0, 1]))"
   ]
  },
  {
   "cell_type": "code",
   "execution_count": null,
   "metadata": {},
   "outputs": [],
   "source": []
  }
 ],
 "metadata": {
  "kernelspec": {
   "display_name": "Python 3",
   "language": "python",
   "name": "python3"
  },
  "language_info": {
   "codemirror_mode": {
    "name": "ipython",
    "version": 3
   },
   "file_extension": ".py",
   "mimetype": "text/x-python",
   "name": "python",
   "nbconvert_exporter": "python",
   "pygments_lexer": "ipython3",
   "version": "3.7.3"
  }
 },
 "nbformat": 4,
 "nbformat_minor": 2
}
